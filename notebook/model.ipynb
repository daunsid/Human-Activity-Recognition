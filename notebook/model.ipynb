{
 "cells": [
  {
   "cell_type": "code",
   "execution_count": 11,
   "id": "f2a54635",
   "metadata": {},
   "outputs": [],
   "source": [
    "import time\n",
    "import path\n",
    "import data\n",
    "import preprocessing\n",
    "from sklearn.utils import shuffle\n",
    "\n",
    "import sklearn.ensemble as ensemble\n",
    "import sklearn.neighbors as neighbors\n",
    "from sklearn.tree import DecisionTreeClassifier\n",
    "from sklearn.linear_model import LogisticRegression\n",
    "\n",
    "from sklearn.model_selection import cross_val_score\n",
    "from sklearn.feature_selection import SelectFromModel"
   ]
  },
  {
   "cell_type": "code",
   "execution_count": 6,
   "id": "91f9772a",
   "metadata": {},
   "outputs": [],
   "source": [
    "dpath = path.Path(\"../datasets\")"
   ]
  },
  {
   "cell_type": "code",
   "execution_count": 7,
   "id": "c460cd99",
   "metadata": {},
   "outputs": [],
   "source": [
    "datasets = data.loadData(dpath)\n",
    "\n",
    "(train_samples,train_label), (test_samples, test_label) = datasets\n",
    "\n",
    "infer_samples,infer_label = data.loadInferData(dpath/\"test.csv\")"
   ]
  },
  {
   "cell_type": "code",
   "execution_count": 8,
   "id": "5dd7a142",
   "metadata": {},
   "outputs": [],
   "source": [
    "x_train, y_train = preprocessing.normalize_data(train_samples, train_samples), preprocessing.encodeData(train_label, train_label)\n",
    "\n",
    "x_test, y_test = preprocessing.normalize_data(train_samples, test_samples), preprocessing.encodeData(train_label, test_label)\n",
    "\n",
    "x_ifer, y_ifer = preprocessing.normalize_data(train_samples, infer_samples), preprocessing.encodeData(train_label, infer_label)"
   ]
  },
  {
   "cell_type": "code",
   "execution_count": 43,
   "id": "2c515ea5",
   "metadata": {},
   "outputs": [],
   "source": [
    "# Baseline Model\n",
    "\n",
    "trees = 500\n",
    "max_feat = 10\n",
    "max_depth = 50\n",
    "min_sample = 2\n",
    "\n",
    "clf = ensemble.RandomForestClassifier(n_estimators=trees,\n",
    "                             max_features=max_feat,\n",
    "                             max_depth=max_depth,\n",
    "                             min_samples_split= min_sample, random_state=0)"
   ]
  },
  {
   "cell_type": "code",
   "execution_count": 38,
   "id": "6923569d",
   "metadata": {},
   "outputs": [],
   "source": [
    "def getAccuracy(pre,ytest): \n",
    "    count = 0\n",
    "    for i in range(len(ytest)):\n",
    "        if (ytest[i]==pre[i]).all(): \n",
    "            count+=1\n",
    "    acc = float(count)/len(ytest)\n",
    "    return acc"
   ]
  },
  {
   "cell_type": "code",
   "execution_count": 42,
   "id": "bb4f219f",
   "metadata": {},
   "outputs": [],
   "source": [
    "def evaluate_model(trainx, trainy, testx, testy, model):\n",
    "    start = time.time()\n",
    "    model.fit(trainx, trainy)\n",
    "    end = time.time()\n",
    "    print(\"Execution time for building the Tree is: %f\"%(float(end)- float(start)))\n",
    "    \n",
    "    #Evaluate the model performance for the test data\n",
    "    \n",
    "    pred = model.predict(testx)\n",
    "    \n",
    "    accuracy = getAccuracy(pred, testy)\n",
    "    return \"Accuracy of model before feature selection is %.2f\"%(100*accuracy)"
   ]
  },
  {
   "cell_type": "code",
   "execution_count": 44,
   "id": "000ac3d3",
   "metadata": {},
   "outputs": [
    {
     "name": "stdout",
     "output_type": "stream",
     "text": [
      "Execution time for building the Tree is: 58.541798\n"
     ]
    },
    {
     "data": {
      "text/plain": [
       "'Accuracy of model before feature selection is 90.60'"
      ]
     },
     "execution_count": 44,
     "metadata": {},
     "output_type": "execute_result"
    }
   ],
   "source": [
    "evaluate_model(x_train, y_train, x_test, y_test, clf)"
   ]
  },
  {
   "cell_type": "code",
   "execution_count": null,
   "id": "6dec8628",
   "metadata": {},
   "outputs": [],
   "source": []
  }
 ],
 "metadata": {
  "kernelspec": {
   "display_name": "Python 3",
   "language": "python",
   "name": "python3"
  },
  "language_info": {
   "codemirror_mode": {
    "name": "ipython",
    "version": 3
   },
   "file_extension": ".py",
   "mimetype": "text/x-python",
   "name": "python",
   "nbconvert_exporter": "python",
   "pygments_lexer": "ipython3",
   "version": "3.8.8"
  }
 },
 "nbformat": 4,
 "nbformat_minor": 5
}
