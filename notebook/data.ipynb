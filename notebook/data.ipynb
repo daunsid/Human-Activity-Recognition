{
 "cells": [
  {
   "cell_type": "code",
   "execution_count": 1,
   "id": "7ac8bfbe",
   "metadata": {},
   "outputs": [],
   "source": [
    "import os\n",
    "import path\n",
    "import pickle\n",
    "\n",
    "import numpy as np\n",
    "import pandas as pd\n",
    "\n",
    "path = path.Path(\"../datasets\")"
   ]
  },
  {
   "cell_type": "code",
   "execution_count": 2,
   "id": "ef6cc851",
   "metadata": {},
   "outputs": [],
   "source": [
    "def loadData(dpath):\n",
    "    #data_path=path.Path(dpath)\n",
    "    train_set = pd.read_csv(dpath/\"train.csv\")\n",
    "    test_set = pd.read_csv(dpath/\"test.csv\")\n",
    "    \n",
    "    return (train_set.iloc[:, :-2], train_set.iloc[:, -1]), (test_set.iloc[:, :-2], test_set.iloc[:, -1])\n",
    "\n",
    "def loadInferData(df):\n",
    "    \n",
    "    sdf = df[df[\"Activity\"] == \"STANDING\"]\n",
    "    wdf = df[df[\"Activity\"] == \"WALKING\"]\n",
    "    swdf = pd.concat([sdf, wdf])\n",
    "    swdf = swdf.set_index(np.arange(len(swdf)))\n",
    "    \n",
    "    return swdf.iloc[:, :-2], swdf.iloc[:, -1] \n",
    "    "
   ]
  },
  {
   "cell_type": "code",
   "execution_count": 3,
   "id": "48801391",
   "metadata": {},
   "outputs": [],
   "source": [
    "ts, te = loadData(path)"
   ]
  },
  {
   "cell_type": "code",
   "execution_count": 66,
   "id": "5e00832a",
   "metadata": {},
   "outputs": [],
   "source": [
    "tt=loadInferData(pd.read_csv(path/\"test.csv\"))"
   ]
  },
  {
   "cell_type": "code",
   "execution_count": null,
   "id": "dcf34308",
   "metadata": {},
   "outputs": [],
   "source": []
  }
 ],
 "metadata": {
  "kernelspec": {
   "display_name": "Python 3",
   "language": "python",
   "name": "python3"
  },
  "language_info": {
   "codemirror_mode": {
    "name": "ipython",
    "version": 3
   },
   "file_extension": ".py",
   "mimetype": "text/x-python",
   "name": "python",
   "nbconvert_exporter": "python",
   "pygments_lexer": "ipython3",
   "version": "3.8.8"
  }
 },
 "nbformat": 4,
 "nbformat_minor": 5
}
