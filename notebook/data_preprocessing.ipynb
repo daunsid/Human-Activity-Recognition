{
 "cells": [
  {
   "cell_type": "code",
   "execution_count": 40,
   "id": "57c5ede9",
   "metadata": {},
   "outputs": [],
   "source": [
    "import data\n",
    "import path\n",
    "import numpy as np\n",
    "import pandas as pd\n",
    "\n",
    "import sklearn.preprocessing as preprocessing\n",
    "\n",
    "path = path.Path(\"../datasets\")"
   ]
  },
  {
   "cell_type": "code",
   "execution_count": 3,
   "id": "a32d6e86",
   "metadata": {},
   "outputs": [],
   "source": [
    "def dataNormalization(arr):\n",
    "    l=[]\n",
    "    for i in range(arr.shape[1]):\n",
    "        col=(arr[:, i] - arr[:, i].min())/(arr[:, i].max() - arr[:, i].min())\n",
    "        l.append(col)\n",
    "    return np.array(l).T"
   ]
  },
  {
   "cell_type": "code",
   "execution_count": 4,
   "id": "e65b19d5",
   "metadata": {},
   "outputs": [],
   "source": [
    "train, test = data.loadData(path)\n",
    "#data = data.loadInferData()"
   ]
  },
  {
   "cell_type": "code",
   "execution_count": 6,
   "id": "e185bb2e",
   "metadata": {},
   "outputs": [],
   "source": [
    "samples, label= test"
   ]
  },
  {
   "cell_type": "code",
   "execution_count": 18,
   "id": "90e421ec",
   "metadata": {},
   "outputs": [],
   "source": [
    "sam, lab=train"
   ]
  },
  {
   "cell_type": "code",
   "execution_count": 22,
   "id": "9584c1e3",
   "metadata": {},
   "outputs": [],
   "source": [
    "n_tr, n_te = normalize_data(sam, samples)"
   ]
  },
  {
   "cell_type": "code",
   "execution_count": 9,
   "id": "095a0fb6",
   "metadata": {},
   "outputs": [],
   "source": [
    "def normalize_data(fdata, data):\n",
    "    norm = preprocessing.MinMaxScaler()\n",
    "    x_norm = norm.fit(fdata)\n",
    "    return x_norm.transform(data)"
   ]
  },
  {
   "cell_type": "code",
   "execution_count": 38,
   "id": "afb4b05a",
   "metadata": {},
   "outputs": [],
   "source": [
    "def encodeData(flabel, label):\n",
    "\n",
    "    lab_enc = preprocessing.LabelEncoder()\n",
    "    lab_enc = lab_enc.fit(flabel.values)\n",
    "    data_enc = lab_enc.transform(label.values)\n",
    "    ohe = preprocessing.OneHotEncoder()\n",
    "    one_label = ohe.fit(data_enc.reshape(-1,1))\n",
    "    \n",
    "    return one_label.transform(data_enc.reshape(-1,1)).toarray()\n",
    "    "
   ]
  },
  {
   "cell_type": "code",
   "execution_count": 39,
   "id": "8f3b6c68",
   "metadata": {},
   "outputs": [
    {
     "data": {
      "text/plain": [
       "array([[0., 0., 1., 0., 0., 0.],\n",
       "       [0., 0., 1., 0., 0., 0.],\n",
       "       [0., 0., 1., 0., 0., 0.],\n",
       "       ...,\n",
       "       [0., 0., 0., 0., 0., 1.],\n",
       "       [0., 0., 0., 0., 0., 1.],\n",
       "       [0., 0., 0., 0., 0., 1.]])"
      ]
     },
     "execution_count": 39,
     "metadata": {},
     "output_type": "execute_result"
    }
   ],
   "source": [
    "encodeData(lab, label)"
   ]
  },
  {
   "cell_type": "code",
   "execution_count": null,
   "id": "acc097ef",
   "metadata": {},
   "outputs": [],
   "source": []
  }
 ],
 "metadata": {
  "kernelspec": {
   "display_name": "Python 3",
   "language": "python",
   "name": "python3"
  },
  "language_info": {
   "codemirror_mode": {
    "name": "ipython",
    "version": 3
   },
   "file_extension": ".py",
   "mimetype": "text/x-python",
   "name": "python",
   "nbconvert_exporter": "python",
   "pygments_lexer": "ipython3",
   "version": "3.8.8"
  }
 },
 "nbformat": 4,
 "nbformat_minor": 5
}
