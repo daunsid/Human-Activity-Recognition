{
 "cells": [
  {
   "cell_type": "markdown",
   "id": "89ae04d8",
   "metadata": {},
   "source": [
    "# <\\><b> Human Activity Recognition<b/> <\\>"
   ]
  },
  {
   "cell_type": "code",
   "execution_count": null,
   "id": "99f975ca",
   "metadata": {},
   "outputs": [],
   "source": [
    "#![images (4).jpg](attachment:images (4).jpg)"
   ]
  },
  {
   "cell_type": "markdown",
   "id": "63a67ab9",
   "metadata": {},
   "source": [
    "## import the neccessary libraries"
   ]
  },
  {
   "cell_type": "markdown",
   "id": "9629b3c3",
   "metadata": {},
   "source": [
    "## Data Pre-processing"
   ]
  },
  {
   "cell_type": "markdown",
   "id": "4a5fe2b1",
   "metadata": {},
   "source": [
    "def save_load_data(path, data, label):\n",
    "    dp, lp = f\"{path}/tdata.pickle\", f\"{path}/tlabel.pickle\"\n",
    "    if not os.path.isdir(path):\n",
    "        os.mkdir(path)\n",
    "        data.to_pickle(dp)\n",
    "        label.to_pickle(lp)\n",
    "    return pd.read_pickle(dp), pd.read_pickle(lp)"
   ]
  },
  {
   "cell_type": "markdown",
   "id": "cac42d97",
   "metadata": {},
   "source": [
    "x_train,y_train=save_load_data(path=path.Path(\"./pickled_train\"), data=train_data, label=train_labels)"
   ]
  },
  {
   "cell_type": "markdown",
   "id": "fa94b54e",
   "metadata": {},
   "source": [
    "x_test, y_test=save_load_data(path=path.Path(\"./pickled_test\"), data=test_data, label=test_labels)"
   ]
  },
  {
   "cell_type": "code",
   "execution_count": 23,
   "id": "84f797b8",
   "metadata": {},
   "outputs": [],
   "source": [
    "tl = pd.DataFrame(train_labels.values, columns=['activity'])\n"
   ]
  },
  {
   "cell_type": "markdown",
   "id": "f846cf55",
   "metadata": {},
   "source": [
    "## Analysis of Features and labels"
   ]
  },
  {
   "cell_type": "code",
   "execution_count": 62,
   "id": "f1527368",
   "metadata": {},
   "outputs": [],
   "source": [
    "x = x_train.copy()\n",
    "y = x_train.copy()\n",
    "\n",
    "x['activity'] = y_train\n",
    "\n",
    "walking = y[x['activity'] == 1]\n",
    "standing = y[x['activity'] == 0]"
   ]
  },
  {
   "cell_type": "code",
   "execution_count": 63,
   "id": "9bf8cb52",
   "metadata": {},
   "outputs": [
    {
     "data": {
      "text/plain": [
       "((561,), (561,))"
      ]
     },
     "execution_count": 63,
     "metadata": {},
     "output_type": "execute_result"
    }
   ],
   "source": [
    "mean_walking = walking.values.mean(axis=0)\n",
    "mean_standing = standing.values.mean(axis=0)\n",
    "mean_walking.shape, mean_standing.shape\n"
   ]
  },
  {
   "cell_type": "code",
   "execution_count": 68,
   "id": "69221845",
   "metadata": {},
   "outputs": [],
   "source": [
    "corr=['correlation()' in col for col in x_train.columns.values]\n",
    "idx=[i for i in range(len(corr)) if corr[i]==True]\n",
    "col = [x_train.columns.values[c] for c in idx]"
   ]
  },
  {
   "cell_type": "markdown",
   "id": "dd7a0e29",
   "metadata": {},
   "source": [
    "## Visualize Data"
   ]
  },
  {
   "cell_type": "code",
   "execution_count": 46,
   "id": "1a2adcc6",
   "metadata": {},
   "outputs": [],
   "source": [
    "score = cross_val_score(classifier, x_train, y_train, cv=5)"
   ]
  },
  {
   "cell_type": "code",
   "execution_count": 76,
   "id": "371e954b",
   "metadata": {},
   "outputs": [],
   "source": [
    "xs, y = shuffle(x_train.values, y_train)"
   ]
  },
  {
   "cell_type": "code",
   "execution_count": 108,
   "id": "7dd7839c",
   "metadata": {},
   "outputs": [],
   "source": [
    "from sklearn.metrics import confusion_matrix\n",
    "cm = confusion_matrix(yt, pdt)"
   ]
  },
  {
   "cell_type": "code",
   "execution_count": 111,
   "id": "2ecee141",
   "metadata": {},
   "outputs": [
    {
     "data": {
      "text/plain": [
       "<AxesSubplot:>"
      ]
     },
     "execution_count": 111,
     "metadata": {},
     "output_type": "execute_result"
    },
    {
     "data": {
      "image/png": "[encoded data removed]",
      "text/plain": [
       "<Figure size 432x288 with 2 Axes>"
      ]
     },
     "metadata": {
      "needs_background": "light"
     },
     "output_type": "display_data"
    }
   ],
   "source": [
    "sns.heatmap(cm, annot=True)"
   ]
  },
  {
   "cell_type": "code",
   "execution_count": 115,
   "id": "a87f465a",
   "metadata": {},
   "outputs": [
    {
     "data": {
      "text/plain": [
       "array(['STANDING', 'SITTING', 'LAYING', 'WALKING', 'WALKING_DOWNSTAIRS',\n",
       "       'WALKING_UPSTAIRS'], dtype=object)"
      ]
     },
     "execution_count": 115,
     "metadata": {},
     "output_type": "execute_result"
    }
   ],
   "source": [
    "train_set['Activity'].unique()"
   ]
  },
  {
   "cell_type": "code",
   "execution_count": null,
   "id": "4446be70",
   "metadata": {},
   "outputs": [],
   "source": []
  },
  {
   "cell_type": "code",
   "execution_count": 22,
   "id": "a7e9b774",
   "metadata": {},
   "outputs": [],
   "source": [
    "from sklearn.model_selection import cross_val_score, train_test_split"
   ]
  },
  {
   "cell_type": "code",
   "execution_count": 23,
   "id": "d97769a1",
   "metadata": {},
   "outputs": [],
   "source": [
    "def define_models(models=dict()):\n",
    "    pass"
   ]
  },
  {
   "cell_type": "code",
   "execution_count": 24,
   "id": "80b6d2f8",
   "metadata": {},
   "outputs": [],
   "source": []
  },
  {
   "cell_type": "code",
   "execution_count": 26,
   "id": "ab3dfac6",
   "metadata": {},
   "outputs": [],
   "source": [
    "def evalute_models(trainx, trainy, testx, testy, model):\n",
    "    results = dict()\n",
    "    for name, model in models.items():\n",
    "        results[name] = evalute_model(trainx, trainy, testx, testy, model)\n",
    "        print(f\"{name} {results[name]:.3f}\")\n",
    "    return results"
   ]
  },
  {
   "cell_type": "code",
   "execution_count": 15,
   "id": "6e5fdb4e",
   "metadata": {},
   "outputs": [
    {
     "data": {
      "text/plain": [
       "0.9737354085603113"
      ]
     },
     "execution_count": 15,
     "metadata": {},
     "output_type": "execute_result"
    }
   ],
   "source": [
    "td = test_data.values\n",
    "tl = test_labels.values\n",
    "\n",
    "td.shape, tl.shape\n",
    "\n",
    "pd = clf.predict(td)\n",
    "acc = getAccuracy(pd, tl)\n",
    "\n",
    "acc"
   ]
  },
  {
   "cell_type": "code",
   "execution_count": 74,
   "id": "260eee5f",
   "metadata": {},
   "outputs": [],
   "source": [
    "fi = clf.feature_importances_"
   ]
  },
  {
   "cell_type": "code",
   "execution_count": 87,
   "id": "f8a0b539",
   "metadata": {},
   "outputs": [
    {
     "data": {
      "text/plain": [
       "29"
      ]
     },
     "execution_count": 87,
     "metadata": {},
     "output_type": "execute_result"
    }
   ],
   "source": [
    "ft=filter(lambda x: x> 0.005, fi)\n",
    "len(list(ft))"
   ]
  },
  {
   "cell_type": "code",
   "execution_count": 102,
   "id": "775bf68a",
   "metadata": {},
   "outputs": [
    {
     "data": {
      "text/plain": [
       "SelectFromModel(estimator=RandomForestClassifier(max_depth=30, max_features=7,\n",
       "                                                 n_estimators=250,\n",
       "                                                 random_state=0),\n",
       "                threshold=0.005)"
      ]
     },
     "execution_count": 102,
     "metadata": {},
     "output_type": "execute_result"
    }
   ],
   "source": [
    "#Select features which have higher contribution in the final prediction\n",
    "\n",
    "sfm = SelectFromModel(clf, threshold=0.005) \n",
    "sfm.fit(x,y)"
   ]
  },
  {
   "cell_type": "code",
   "execution_count": 103,
   "id": "2d926152",
   "metadata": {},
   "outputs": [
    {
     "name": "stdout",
     "output_type": "stream",
     "text": [
      "Shape of the dataset  (7352, 29)\n"
     ]
    }
   ],
   "source": [
    "#Transform input dataset\n",
    "\n",
    "x1 = sfm.transform(x) \n",
    "xt1 = sfm.transform(xt)\n",
    "\n",
    "#Let's see the size and shape of new dataset print(\"Size of Data set before feature selection: %.2f MB\"%(Xtrain_1.nbytes/1e6))\n",
    "\n",
    "shape = np.shape(x1)\n",
    "\n",
    "print(\"Shape of the dataset \",shape)\n",
    "\n",
    "#Size of Data set before feature selection: 5.60 MB Shape of the dataset (35000, 20)"
   ]
  },
  {
   "cell_type": "code",
   "execution_count": 104,
   "id": "4214a7dd",
   "metadata": {},
   "outputs": [
    {
     "name": "stdout",
     "output_type": "stream",
     "text": [
      "Execution time for building the Tree is: 8.889826\n",
      "Accuracy after feature selection 83.54\n"
     ]
    }
   ],
   "source": [
    "#Model training time\n",
    "\n",
    "start = time.time() \n",
    "clf.fit(x1, y) \n",
    "end = time.time()\n",
    "\n",
    "print(\"Execution time for building the Tree is: %f\"%(float(end)- float(start)))\n",
    "\n",
    "#Let's evaluate the model on test data\n",
    "\n",
    "pre = clf.predict(xt1) \n",
    "count = 0\n",
    "acc2 = getAccuracy(pre, yt)\n",
    "\n",
    "print(\"Accuracy after feature selection %.2f\"%(100*acc2))\n",
    "\n"
   ]
  }
 ],
 "metadata": {
  "kernelspec": {
   "display_name": "Python 3",
   "language": "python",
   "name": "python3"
  },
  "language_info": {
   "codemirror_mode": {
    "name": "ipython",
    "version": 3
   },
   "file_extension": ".py",
   "mimetype": "text/x-python",
   "name": "python",
   "nbconvert_exporter": "python",
   "pygments_lexer": "ipython3",
   "version": "3.8.8"
  }
 },
 "nbformat": 4,
 "nbformat_minor": 5
}
