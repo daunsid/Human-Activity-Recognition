{
 "cells": [
  {
   "cell_type": "code",
   "execution_count": null,
   "id": "140785ac",
   "metadata": {},
   "outputs": [],
   "source": [
    "import seaborn as sns\n",
    "import matplotlib as mpl\n",
    "import matplotlib.pyplot as plt\n"
   ]
  },
  {
   "cell_type": "code",
   "execution_count": null,
   "id": "1f418085",
   "metadata": {},
   "outputs": [],
   "source": [
    "fig = plt.figure(figsize = (8,8))\n",
    "ax = fig.add_subplot(1,1,1) \n",
    "ax.set_xlabel('Principal Component 1', fontsize = 15)\n",
    "ax.set_ylabel('Principal Component 2', fontsize = 15)\n",
    "ax.set_title('2 component PCA', fontsize = 20)\n",
    "targets = ['STANDING', 'WALKING']\n",
    "colors = ['r', 'g']\n",
    "for target, color in zip(targets,colors):\n",
    "    indicesToKeep = finalDf['activity'] == target\n",
    "    ax.scatter(finalDf.loc[indicesToKeep, 'principal component 1']\n",
    "               , finalDf.loc[indicesToKeep, 'principal component 2']\n",
    "               , c = color\n",
    "               , s = 50)\n",
    "ax.legend(targets)\n",
    "ax.grid()\n"
   ]
  },
  {
   "cell_type": "code",
   "execution_count": null,
   "id": "1c8cd903",
   "metadata": {},
   "outputs": [],
   "source": [
    "pca.explained_variance_ratio_"
   ]
  },
  {
   "cell_type": "code",
   "execution_count": null,
   "id": "e2027f56",
   "metadata": {},
   "outputs": [],
   "source": [
    "#corr = x_train.corr()\n",
    "fig, ax = plt.subplots()\n",
    "img = ax.imshow(corr.values, cmap=\"magma_r\")\n",
    "ax.set_xticks(np.arange(l))\n",
    "ax.set_yticks(np.arange(len(corr.columns)))\n",
    "ax.set_xticklabels(corr.columns)\n",
    "ax.set_yticklabels(corr.columns)\n",
    "\n",
    "cbar = ax.figure.colorbar(img, ax=ax, cmap='')\n",
    "plt.setp(ax.get_xticklabels(), rotation=30, ha='right', rotation_mode='anchor')\n",
    "\n",
    "for i in range(len(corr.columns)):\n",
    "    for j in range(len(corr.columns)):\n",
    "        if corr.iloc[i, j]<0:\n",
    "            text = ax.text(j,i,np.around(corr.iloc[i,j], decimals=2),\n",
    "                          ha=\"center\", va=\"center\", color=\"black\")\n",
    "        else:\n",
    "            text = ax.text(j,i,np.around(corr.iloc[i,j], decimals=2),\n",
    "                          ha=\"center\", va=\"center\", color=\"white\")"
   ]
  },
  {
   "cell_type": "code",
   "execution_count": null,
   "id": "542e2df1",
   "metadata": {},
   "outputs": [],
   "source": [
    "mpl.style.use('seaborn')\n",
    "fig, (ax1, ax2) = plt.subplots(2, 1)\n",
    "fig.suptitle('A graph for the ideal walking and standing of an accelerometer reading', color=\"C0\")\n",
    "\n",
    "ax1.plot(mean_walking, \"y\")\n",
    "ax1.set_ylabel('WALKING')\n",
    "\n",
    "ax2.plot(mean_standing, 'r')\n",
    "ax2.set_xlabel('accelerometer readings')\n",
    "ax2.set_ylabel('STANDING')\n",
    "#ax2.legend()\n",
    "\n",
    "plt.show()"
   ]
  },
  {
   "cell_type": "code",
   "execution_count": null,
   "id": "45725ab6",
   "metadata": {},
   "outputs": [],
   "source": [
    "sns.pairplot(df, hue='activity')"
   ]
  },
  {
   "cell_type": "code",
   "execution_count": null,
   "id": "1ac7d354",
   "metadata": {},
   "outputs": [],
   "source": [
    "plt.scatter('x', 'y', s='z_', alpha=0.5, data=df)"
   ]
  },
  {
   "cell_type": "code",
   "execution_count": null,
   "id": "2084b2fc",
   "metadata": {},
   "outputs": [],
   "source": []
  },
  {
   "cell_type": "code",
   "execution_count": null,
   "id": "0a97840c",
   "metadata": {},
   "outputs": [],
   "source": [
    "sns.heatmap(cm/np.sum(cm),\n",
    "            annot=True,\n",
    "           fmt=\".2%\",\n",
    "           cmap=\"Blues\")\n",
    "plt.show()"
   ]
  },
  {
   "cell_type": "code",
   "execution_count": null,
   "id": "0ae513b6",
   "metadata": {},
   "outputs": [],
   "source": []
  }
 ],
 "metadata": {
  "kernelspec": {
   "display_name": "Python 3",
   "language": "python",
   "name": "python3"
  },
  "language_info": {
   "codemirror_mode": {
    "name": "ipython",
    "version": 3
   },
   "file_extension": ".py",
   "mimetype": "text/x-python",
   "name": "python",
   "nbconvert_exporter": "python",
   "pygments_lexer": "ipython3",
   "version": "3.8.8"
  }
 },
 "nbformat": 4,
 "nbformat_minor": 5
}
